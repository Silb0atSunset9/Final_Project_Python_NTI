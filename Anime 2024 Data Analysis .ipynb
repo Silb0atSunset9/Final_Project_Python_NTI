{
 "cells": [
  {
   "cell_type": "markdown",
   "id": "d50ddc34-7923-42fe-aad6-abfb62379a5f",
   "metadata": {},
   "source": [
    "### Data Anlaysis Final Project (Top Anime 2024 Data Analysis)"
   ]
  },
  {
   "cell_type": "markdown",
   "id": "2e36892f",
   "metadata": {},
   "source": [
    "### 1] Importing Libraries & Datasets"
   ]
  },
  {
   "cell_type": "code",
   "execution_count": 463,
   "id": "bfab03ea-3a92-4429-a8c9-f11d19c0dd9e",
   "metadata": {},
   "outputs": [],
   "source": [
    "#import Libraries\n",
    "import numpy as np \n",
    "import pandas as pd \n",
    "import matplotlib.pyplot as plt\n",
    "import seaborn as sns\n",
    "import warnings\n"
   ]
  },
  {
   "cell_type": "code",
   "execution_count": 464,
   "id": "c5faf0ac-e1e3-403d-807a-f3b0c79dda74",
   "metadata": {},
   "outputs": [],
   "source": [
    "#import dataset\n",
    "anme= pd.read_csv(r'C:\\Users\\mrmra\\OneDrive\\Documents\\Python Learning\\Final Project\\anime.csv')"
   ]
  },
  {
   "cell_type": "markdown",
   "id": "358156f5-988d-4892-8ffe-8a1d37835059",
   "metadata": {},
   "source": [
    "### 2] Exploratory Data Analysis (Understanding & Inspecting Data)"
   ]
  },
  {
   "cell_type": "code",
   "execution_count": 465,
   "id": "eede002f-61da-440e-94ed-e9ff47bdc61a",
   "metadata": {},
   "outputs": [
    {
     "data": {
      "text/html": [
       "<div>\n",
       "<style scoped>\n",
       "    .dataframe tbody tr th:only-of-type {\n",
       "        vertical-align: middle;\n",
       "    }\n",
       "\n",
       "    .dataframe tbody tr th {\n",
       "        vertical-align: top;\n",
       "    }\n",
       "\n",
       "    .dataframe thead th {\n",
       "        text-align: right;\n",
       "    }\n",
       "</style>\n",
       "<table border=\"1\" class=\"dataframe\">\n",
       "  <thead>\n",
       "    <tr style=\"text-align: right;\">\n",
       "      <th></th>\n",
       "      <th>Score</th>\n",
       "      <th>Popularity</th>\n",
       "      <th>Rank</th>\n",
       "      <th>Members</th>\n",
       "      <th>Description</th>\n",
       "      <th>Synonyms</th>\n",
       "      <th>Japanese</th>\n",
       "      <th>English</th>\n",
       "      <th>Type</th>\n",
       "      <th>Episodes</th>\n",
       "      <th>...</th>\n",
       "      <th>Premiered</th>\n",
       "      <th>Broadcast</th>\n",
       "      <th>Producers</th>\n",
       "      <th>Licensors</th>\n",
       "      <th>Studios</th>\n",
       "      <th>Source</th>\n",
       "      <th>Genres</th>\n",
       "      <th>Demographic</th>\n",
       "      <th>Duration</th>\n",
       "      <th>Rating</th>\n",
       "    </tr>\n",
       "  </thead>\n",
       "  <tbody>\n",
       "    <tr>\n",
       "      <th>0</th>\n",
       "      <td>9.38</td>\n",
       "      <td>284</td>\n",
       "      <td>1</td>\n",
       "      <td>710</td>\n",
       "      <td>During their decade-long quest to defeat the D...</td>\n",
       "      <td>Frieren at the Funeral</td>\n",
       "      <td>葬送のフリーレン</td>\n",
       "      <td>Frieren: Beyond Journey's End</td>\n",
       "      <td>TV</td>\n",
       "      <td>28</td>\n",
       "      <td>...</td>\n",
       "      <td>Fall 2023</td>\n",
       "      <td>Fridays at 23:00 (JST)</td>\n",
       "      <td>Aniplex, Dentsu, Shogakukan-Shueisha Productio...</td>\n",
       "      <td>None found, add some</td>\n",
       "      <td>Madhouse</td>\n",
       "      <td>Manga</td>\n",
       "      <td>AdventureAdventure, DramaDrama, FantasyFantasy</td>\n",
       "      <td>ShounenShounen</td>\n",
       "      <td>24 min. per ep.</td>\n",
       "      <td>PG-13 - Teens 13 or older</td>\n",
       "    </tr>\n",
       "    <tr>\n",
       "      <th>1</th>\n",
       "      <td>9.09</td>\n",
       "      <td>3</td>\n",
       "      <td>2</td>\n",
       "      <td>3</td>\n",
       "      <td>After a horrific alchemy experiment goes wrong...</td>\n",
       "      <td>Hagane no Renkinjutsushi: Fullmetal Alchemist,...</td>\n",
       "      <td>鋼の錬金術師 FULLMETAL ALCHEMIST</td>\n",
       "      <td>Fullmetal Alchemist: Brotherhood</td>\n",
       "      <td>TV</td>\n",
       "      <td>64</td>\n",
       "      <td>...</td>\n",
       "      <td>Spring 2009</td>\n",
       "      <td>Sundays at 17:00 (JST)</td>\n",
       "      <td>Aniplex, Square Enix, Mainichi Broadcasting Sy...</td>\n",
       "      <td>Funimation, Aniplex of America</td>\n",
       "      <td>Bones</td>\n",
       "      <td>Manga</td>\n",
       "      <td>ActionAction, AdventureAdventure, DramaDrama, ...</td>\n",
       "      <td>ShounenShounen</td>\n",
       "      <td>24 min. per ep.</td>\n",
       "      <td>R - 17+ (violence &amp; profanity)</td>\n",
       "    </tr>\n",
       "    <tr>\n",
       "      <th>2</th>\n",
       "      <td>9.07</td>\n",
       "      <td>13</td>\n",
       "      <td>3</td>\n",
       "      <td>2</td>\n",
       "      <td>Eccentric scientist Rintarou Okabe has a never...</td>\n",
       "      <td>NaN</td>\n",
       "      <td>STEINS;GATE</td>\n",
       "      <td>Steins;Gate</td>\n",
       "      <td>TV</td>\n",
       "      <td>24</td>\n",
       "      <td>...</td>\n",
       "      <td>Spring 2011</td>\n",
       "      <td>Wednesdays at 02:05 (JST)</td>\n",
       "      <td>Frontier Works, Media Factory, Kadokawa Shoten...</td>\n",
       "      <td>Funimation</td>\n",
       "      <td>White Fox</td>\n",
       "      <td>Visual novel</td>\n",
       "      <td>DramaDrama, Sci-FiSci-Fi, SuspenseSuspense</td>\n",
       "      <td>NaN</td>\n",
       "      <td>24 min. per ep.</td>\n",
       "      <td>PG-13 - Teens 13 or older</td>\n",
       "    </tr>\n",
       "    <tr>\n",
       "      <th>3</th>\n",
       "      <td>9.06</td>\n",
       "      <td>342</td>\n",
       "      <td>4</td>\n",
       "      <td>630</td>\n",
       "      <td>Gintoki, Shinpachi, and Kagura return as the f...</td>\n",
       "      <td>Gintama' (2015)</td>\n",
       "      <td>銀魂°</td>\n",
       "      <td>Gintama Season 4</td>\n",
       "      <td>TV</td>\n",
       "      <td>51</td>\n",
       "      <td>...</td>\n",
       "      <td>Spring 2015</td>\n",
       "      <td>Wednesdays at 18:00 (JST)</td>\n",
       "      <td>TV Tokyo, Aniplex, Dentsu</td>\n",
       "      <td>Funimation, Crunchyroll</td>\n",
       "      <td>Bandai Namco Pictures</td>\n",
       "      <td>Manga</td>\n",
       "      <td>ActionAction, ComedyComedy, Sci-FiSci-Fi</td>\n",
       "      <td>ShounenShounen</td>\n",
       "      <td>24 min. per ep.</td>\n",
       "      <td>PG-13 - Teens 13 or older</td>\n",
       "    </tr>\n",
       "    <tr>\n",
       "      <th>4</th>\n",
       "      <td>9.05</td>\n",
       "      <td>21</td>\n",
       "      <td>5</td>\n",
       "      <td>2</td>\n",
       "      <td>Seeking to restore humanity's diminishing hope...</td>\n",
       "      <td>NaN</td>\n",
       "      <td>進撃の巨人 Season3 Part.2</td>\n",
       "      <td>Attack on Titan Season 3 Part 2</td>\n",
       "      <td>TV</td>\n",
       "      <td>10</td>\n",
       "      <td>...</td>\n",
       "      <td>Spring 2019</td>\n",
       "      <td>Mondays at 00:10 (JST)</td>\n",
       "      <td>Production I.G, Dentsu, Mainichi Broadcasting ...</td>\n",
       "      <td>Funimation</td>\n",
       "      <td>Wit Studio</td>\n",
       "      <td>Manga</td>\n",
       "      <td>ActionAction, DramaDrama, SuspenseSuspense</td>\n",
       "      <td>ShounenShounen</td>\n",
       "      <td>23 min. per ep.</td>\n",
       "      <td>R - 17+ (violence &amp; profanity)</td>\n",
       "    </tr>\n",
       "  </tbody>\n",
       "</table>\n",
       "<p>5 rows × 22 columns</p>\n",
       "</div>"
      ],
      "text/plain": [
       "   Score  Popularity  Rank  Members  \\\n",
       "0   9.38         284     1      710   \n",
       "1   9.09           3     2        3   \n",
       "2   9.07          13     3        2   \n",
       "3   9.06         342     4      630   \n",
       "4   9.05          21     5        2   \n",
       "\n",
       "                                         Description  \\\n",
       "0  During their decade-long quest to defeat the D...   \n",
       "1  After a horrific alchemy experiment goes wrong...   \n",
       "2  Eccentric scientist Rintarou Okabe has a never...   \n",
       "3  Gintoki, Shinpachi, and Kagura return as the f...   \n",
       "4  Seeking to restore humanity's diminishing hope...   \n",
       "\n",
       "                                            Synonyms  \\\n",
       "0                             Frieren at the Funeral   \n",
       "1  Hagane no Renkinjutsushi: Fullmetal Alchemist,...   \n",
       "2                                                NaN   \n",
       "3                                    Gintama' (2015)   \n",
       "4                                                NaN   \n",
       "\n",
       "                     Japanese                           English Type Episodes  \\\n",
       "0                    葬送のフリーレン     Frieren: Beyond Journey's End   TV       28   \n",
       "1  鋼の錬金術師 FULLMETAL ALCHEMIST  Fullmetal Alchemist: Brotherhood   TV       64   \n",
       "2                 STEINS;GATE                       Steins;Gate   TV       24   \n",
       "3                         銀魂°                  Gintama Season 4   TV       51   \n",
       "4        進撃の巨人 Season3 Part.2   Attack on Titan Season 3 Part 2   TV       10   \n",
       "\n",
       "   ...    Premiered                  Broadcast  \\\n",
       "0  ...    Fall 2023     Fridays at 23:00 (JST)   \n",
       "1  ...  Spring 2009     Sundays at 17:00 (JST)   \n",
       "2  ...  Spring 2011  Wednesdays at 02:05 (JST)   \n",
       "3  ...  Spring 2015  Wednesdays at 18:00 (JST)   \n",
       "4  ...  Spring 2019     Mondays at 00:10 (JST)   \n",
       "\n",
       "                                           Producers  \\\n",
       "0  Aniplex, Dentsu, Shogakukan-Shueisha Productio...   \n",
       "1  Aniplex, Square Enix, Mainichi Broadcasting Sy...   \n",
       "2  Frontier Works, Media Factory, Kadokawa Shoten...   \n",
       "3                          TV Tokyo, Aniplex, Dentsu   \n",
       "4  Production I.G, Dentsu, Mainichi Broadcasting ...   \n",
       "\n",
       "                        Licensors                Studios        Source  \\\n",
       "0            None found, add some               Madhouse         Manga   \n",
       "1  Funimation, Aniplex of America                  Bones         Manga   \n",
       "2                      Funimation              White Fox  Visual novel   \n",
       "3         Funimation, Crunchyroll  Bandai Namco Pictures         Manga   \n",
       "4                      Funimation             Wit Studio         Manga   \n",
       "\n",
       "                                              Genres     Demographic  \\\n",
       "0     AdventureAdventure, DramaDrama, FantasyFantasy  ShounenShounen   \n",
       "1  ActionAction, AdventureAdventure, DramaDrama, ...  ShounenShounen   \n",
       "2         DramaDrama, Sci-FiSci-Fi, SuspenseSuspense             NaN   \n",
       "3           ActionAction, ComedyComedy, Sci-FiSci-Fi  ShounenShounen   \n",
       "4         ActionAction, DramaDrama, SuspenseSuspense  ShounenShounen   \n",
       "\n",
       "          Duration                          Rating  \n",
       "0  24 min. per ep.       PG-13 - Teens 13 or older  \n",
       "1  24 min. per ep.  R - 17+ (violence & profanity)  \n",
       "2  24 min. per ep.       PG-13 - Teens 13 or older  \n",
       "3  24 min. per ep.       PG-13 - Teens 13 or older  \n",
       "4  23 min. per ep.  R - 17+ (violence & profanity)  \n",
       "\n",
       "[5 rows x 22 columns]"
      ]
     },
     "execution_count": 465,
     "metadata": {},
     "output_type": "execute_result"
    }
   ],
   "source": [
    "#Check the head of the DataFrame\n",
    "anme.head()"
   ]
  },
  {
   "cell_type": "code",
   "execution_count": 466,
   "id": "c719c296",
   "metadata": {},
   "outputs": [
    {
     "data": {
      "text/html": [
       "<div>\n",
       "<style scoped>\n",
       "    .dataframe tbody tr th:only-of-type {\n",
       "        vertical-align: middle;\n",
       "    }\n",
       "\n",
       "    .dataframe tbody tr th {\n",
       "        vertical-align: top;\n",
       "    }\n",
       "\n",
       "    .dataframe thead th {\n",
       "        text-align: right;\n",
       "    }\n",
       "</style>\n",
       "<table border=\"1\" class=\"dataframe\">\n",
       "  <thead>\n",
       "    <tr style=\"text-align: right;\">\n",
       "      <th></th>\n",
       "      <th>Score</th>\n",
       "      <th>Popularity</th>\n",
       "      <th>Rank</th>\n",
       "      <th>Members</th>\n",
       "      <th>Description</th>\n",
       "      <th>Synonyms</th>\n",
       "      <th>Japanese</th>\n",
       "      <th>English</th>\n",
       "      <th>Type</th>\n",
       "      <th>Episodes</th>\n",
       "      <th>...</th>\n",
       "      <th>Premiered</th>\n",
       "      <th>Broadcast</th>\n",
       "      <th>Producers</th>\n",
       "      <th>Licensors</th>\n",
       "      <th>Studios</th>\n",
       "      <th>Source</th>\n",
       "      <th>Genres</th>\n",
       "      <th>Demographic</th>\n",
       "      <th>Duration</th>\n",
       "      <th>Rating</th>\n",
       "    </tr>\n",
       "  </thead>\n",
       "  <tbody>\n",
       "    <tr>\n",
       "      <th>995</th>\n",
       "      <td>7.8</td>\n",
       "      <td>4003</td>\n",
       "      <td>996</td>\n",
       "      <td>31</td>\n",
       "      <td>Half retelling of the original Frontier series...</td>\n",
       "      <td>Macross Frontier the Movie, Gekijouban Macross...</td>\n",
       "      <td>劇場版 マクロスＦ 虚空歌姫 ～イツワリノウタヒメ～</td>\n",
       "      <td>Macross Frontier: The False Songstress</td>\n",
       "      <td>Movie</td>\n",
       "      <td>1</td>\n",
       "      <td>...</td>\n",
       "      <td>NaN</td>\n",
       "      <td>NaN</td>\n",
       "      <td>Bandai Visual, Big West, KlockWorx, Bandai Nam...</td>\n",
       "      <td>None found, add some</td>\n",
       "      <td>Satelight, 8bit</td>\n",
       "      <td>Original</td>\n",
       "      <td>ActionAction, RomanceRomance, Sci-FiSci-Fi</td>\n",
       "      <td>NaN</td>\n",
       "      <td>1 hr. 59 min.</td>\n",
       "      <td>PG-13 - Teens 13 or older</td>\n",
       "    </tr>\n",
       "    <tr>\n",
       "      <th>996</th>\n",
       "      <td>7.8</td>\n",
       "      <td>1658</td>\n",
       "      <td>997</td>\n",
       "      <td>136</td>\n",
       "      <td>Not so long ago, mysterious structures called ...</td>\n",
       "      <td>Magi: Adventure of Sinbad OVA</td>\n",
       "      <td>マギ シンドバッドの冒険</td>\n",
       "      <td>NaN</td>\n",
       "      <td>OVA</td>\n",
       "      <td>5</td>\n",
       "      <td>...</td>\n",
       "      <td>NaN</td>\n",
       "      <td>NaN</td>\n",
       "      <td>Aniplex, Shogakukan</td>\n",
       "      <td>None found, add some</td>\n",
       "      <td>Lay-duce</td>\n",
       "      <td>Manga</td>\n",
       "      <td>ActionAction, AdventureAdventure, FantasyFantasy</td>\n",
       "      <td>ShounenShounen</td>\n",
       "      <td>24 min. per ep.</td>\n",
       "      <td>PG-13 - Teens 13 or older</td>\n",
       "    </tr>\n",
       "    <tr>\n",
       "      <th>997</th>\n",
       "      <td>7.8</td>\n",
       "      <td>3114</td>\n",
       "      <td>998</td>\n",
       "      <td>50</td>\n",
       "      <td>Fifteen years ago in a barren stretch of the P...</td>\n",
       "      <td>NaN</td>\n",
       "      <td>名探偵コナン 水平線上の陰謀</td>\n",
       "      <td>Detective Conan Movie 09: Strategy Above the D...</td>\n",
       "      <td>Movie</td>\n",
       "      <td>1</td>\n",
       "      <td>...</td>\n",
       "      <td>NaN</td>\n",
       "      <td>NaN</td>\n",
       "      <td>None found, add some</td>\n",
       "      <td>None found, add some</td>\n",
       "      <td>TMS Entertainment</td>\n",
       "      <td>Manga</td>\n",
       "      <td>AdventureAdventure, ComedyComedy, MysteryMystery</td>\n",
       "      <td>ShounenShounen</td>\n",
       "      <td>1 hr. 50 min.</td>\n",
       "      <td>PG-13 - Teens 13 or older</td>\n",
       "    </tr>\n",
       "    <tr>\n",
       "      <th>998</th>\n",
       "      <td>7.8</td>\n",
       "      <td>3194</td>\n",
       "      <td>999</td>\n",
       "      <td>47</td>\n",
       "      <td>Serial murders involving all kinds have happen...</td>\n",
       "      <td>Meitantei Conan: Senritsu no Gakufu [Full Score]</td>\n",
       "      <td>名探偵コナン 戦慄の楽譜（フルスコア）</td>\n",
       "      <td>Detective Conan Movie 12: Full Score of Fear</td>\n",
       "      <td>Movie</td>\n",
       "      <td>1</td>\n",
       "      <td>...</td>\n",
       "      <td>NaN</td>\n",
       "      <td>NaN</td>\n",
       "      <td>Shogakukan-Shueisha Productions, Tokyo Movie S...</td>\n",
       "      <td>None found, add some</td>\n",
       "      <td>TMS Entertainment</td>\n",
       "      <td>Manga</td>\n",
       "      <td>AdventureAdventure, ComedyComedy, MysteryMystery</td>\n",
       "      <td>ShounenShounen</td>\n",
       "      <td>1 hr. 56 min.</td>\n",
       "      <td>PG-13 - Teens 13 or older</td>\n",
       "    </tr>\n",
       "    <tr>\n",
       "      <th>999</th>\n",
       "      <td>7.8</td>\n",
       "      <td>3598</td>\n",
       "      <td>1000</td>\n",
       "      <td>38</td>\n",
       "      <td>One foggy morning, a black and white Toyota AE...</td>\n",
       "      <td>Shin Gekijouban Initial D: Legend 1 - Kakusei</td>\n",
       "      <td>新劇場版 頭文字［イニシャル］D Legend1 -覚醒-</td>\n",
       "      <td>Initial D Legend 1 Awakening</td>\n",
       "      <td>Movie</td>\n",
       "      <td>1</td>\n",
       "      <td>...</td>\n",
       "      <td>NaN</td>\n",
       "      <td>NaN</td>\n",
       "      <td>Shochiku, Kodansha, Ultra Super Pictures, Avex...</td>\n",
       "      <td>Sentai Filmworks</td>\n",
       "      <td>SANZIGEN, LIDENFILMS</td>\n",
       "      <td>Manga</td>\n",
       "      <td>NaN</td>\n",
       "      <td>SeinenSeinen</td>\n",
       "      <td>1 hr. 2 min.</td>\n",
       "      <td>PG-13 - Teens 13 or older</td>\n",
       "    </tr>\n",
       "  </tbody>\n",
       "</table>\n",
       "<p>5 rows × 22 columns</p>\n",
       "</div>"
      ],
      "text/plain": [
       "     Score  Popularity  Rank  Members  \\\n",
       "995    7.8        4003   996       31   \n",
       "996    7.8        1658   997      136   \n",
       "997    7.8        3114   998       50   \n",
       "998    7.8        3194   999       47   \n",
       "999    7.8        3598  1000       38   \n",
       "\n",
       "                                           Description  \\\n",
       "995  Half retelling of the original Frontier series...   \n",
       "996  Not so long ago, mysterious structures called ...   \n",
       "997  Fifteen years ago in a barren stretch of the P...   \n",
       "998  Serial murders involving all kinds have happen...   \n",
       "999  One foggy morning, a black and white Toyota AE...   \n",
       "\n",
       "                                              Synonyms  \\\n",
       "995  Macross Frontier the Movie, Gekijouban Macross...   \n",
       "996                      Magi: Adventure of Sinbad OVA   \n",
       "997                                                NaN   \n",
       "998   Meitantei Conan: Senritsu no Gakufu [Full Score]   \n",
       "999      Shin Gekijouban Initial D: Legend 1 - Kakusei   \n",
       "\n",
       "                          Japanese  \\\n",
       "995     劇場版 マクロスＦ 虚空歌姫 ～イツワリノウタヒメ～   \n",
       "996                   マギ シンドバッドの冒険   \n",
       "997                 名探偵コナン 水平線上の陰謀   \n",
       "998            名探偵コナン 戦慄の楽譜（フルスコア）   \n",
       "999  新劇場版 頭文字［イニシャル］D Legend1 -覚醒-   \n",
       "\n",
       "                                               English   Type Episodes  ...  \\\n",
       "995             Macross Frontier: The False Songstress  Movie        1  ...   \n",
       "996                                                NaN    OVA        5  ...   \n",
       "997  Detective Conan Movie 09: Strategy Above the D...  Movie        1  ...   \n",
       "998       Detective Conan Movie 12: Full Score of Fear  Movie        1  ...   \n",
       "999                       Initial D Legend 1 Awakening  Movie        1  ...   \n",
       "\n",
       "    Premiered Broadcast                                          Producers  \\\n",
       "995       NaN       NaN  Bandai Visual, Big West, KlockWorx, Bandai Nam...   \n",
       "996       NaN       NaN                                Aniplex, Shogakukan   \n",
       "997       NaN       NaN                               None found, add some   \n",
       "998       NaN       NaN  Shogakukan-Shueisha Productions, Tokyo Movie S...   \n",
       "999       NaN       NaN  Shochiku, Kodansha, Ultra Super Pictures, Avex...   \n",
       "\n",
       "                Licensors               Studios    Source  \\\n",
       "995  None found, add some       Satelight, 8bit  Original   \n",
       "996  None found, add some              Lay-duce     Manga   \n",
       "997  None found, add some     TMS Entertainment     Manga   \n",
       "998  None found, add some     TMS Entertainment     Manga   \n",
       "999      Sentai Filmworks  SANZIGEN, LIDENFILMS     Manga   \n",
       "\n",
       "                                               Genres     Demographic  \\\n",
       "995        ActionAction, RomanceRomance, Sci-FiSci-Fi             NaN   \n",
       "996  ActionAction, AdventureAdventure, FantasyFantasy  ShounenShounen   \n",
       "997  AdventureAdventure, ComedyComedy, MysteryMystery  ShounenShounen   \n",
       "998  AdventureAdventure, ComedyComedy, MysteryMystery  ShounenShounen   \n",
       "999                                               NaN    SeinenSeinen   \n",
       "\n",
       "            Duration                     Rating  \n",
       "995    1 hr. 59 min.  PG-13 - Teens 13 or older  \n",
       "996  24 min. per ep.  PG-13 - Teens 13 or older  \n",
       "997    1 hr. 50 min.  PG-13 - Teens 13 or older  \n",
       "998    1 hr. 56 min.  PG-13 - Teens 13 or older  \n",
       "999     1 hr. 2 min.  PG-13 - Teens 13 or older  \n",
       "\n",
       "[5 rows x 22 columns]"
      ]
     },
     "execution_count": 466,
     "metadata": {},
     "output_type": "execute_result"
    }
   ],
   "source": [
    "#Check the tail of the DataFrame\n",
    "anme.tail()"
   ]
  },
  {
   "cell_type": "code",
   "execution_count": 467,
   "id": "d208205e-ec65-4f04-8fdc-3fe211c253df",
   "metadata": {},
   "outputs": [
    {
     "data": {
      "text/plain": [
       "(1000, 22)"
      ]
     },
     "execution_count": 467,
     "metadata": {},
     "output_type": "execute_result"
    }
   ],
   "source": [
    "#rows-cols\n",
    "anme.shape"
   ]
  },
  {
   "cell_type": "code",
   "execution_count": 468,
   "id": "e6ee72ff-f7e9-4a04-95e6-a42fa15ce711",
   "metadata": {},
   "outputs": [
    {
     "name": "stdout",
     "output_type": "stream",
     "text": [
      "<class 'pandas.core.frame.DataFrame'>\n",
      "RangeIndex: 1000 entries, 0 to 999\n",
      "Data columns (total 22 columns):\n",
      " #   Column       Non-Null Count  Dtype  \n",
      "---  ------       --------------  -----  \n",
      " 0   Score        1000 non-null   float64\n",
      " 1   Popularity   1000 non-null   int64  \n",
      " 2   Rank         1000 non-null   int64  \n",
      " 3   Members      1000 non-null   int64  \n",
      " 4   Description  1000 non-null   object \n",
      " 5   Synonyms     709 non-null    object \n",
      " 6   Japanese     999 non-null    object \n",
      " 7   English      859 non-null    object \n",
      " 8   Type         1000 non-null   object \n",
      " 9   Episodes     1000 non-null   object \n",
      " 10  Status       1000 non-null   object \n",
      " 11  Aired        1000 non-null   object \n",
      " 12  Premiered    569 non-null    object \n",
      " 13  Broadcast    569 non-null    object \n",
      " 14  Producers    1000 non-null   object \n",
      " 15  Licensors    1000 non-null   object \n",
      " 16  Studios      1000 non-null   object \n",
      " 17  Source       1000 non-null   object \n",
      " 18  Genres       771 non-null    object \n",
      " 19  Demographic  521 non-null    object \n",
      " 20  Duration     1000 non-null   object \n",
      " 21  Rating       1000 non-null   object \n",
      "dtypes: float64(1), int64(3), object(18)\n",
      "memory usage: 172.0+ KB\n"
     ]
    }
   ],
   "source": [
    "#Details\n",
    "anme.info()"
   ]
  },
  {
   "cell_type": "code",
   "execution_count": 469,
   "id": "a9e18232-46fa-4418-b8dc-d1e45e6f65d3",
   "metadata": {
    "scrolled": true
   },
   "outputs": [
    {
     "data": {
      "text/html": [
       "<div>\n",
       "<style scoped>\n",
       "    .dataframe tbody tr th:only-of-type {\n",
       "        vertical-align: middle;\n",
       "    }\n",
       "\n",
       "    .dataframe tbody tr th {\n",
       "        vertical-align: top;\n",
       "    }\n",
       "\n",
       "    .dataframe thead th {\n",
       "        text-align: right;\n",
       "    }\n",
       "</style>\n",
       "<table border=\"1\" class=\"dataframe\">\n",
       "  <thead>\n",
       "    <tr style=\"text-align: right;\">\n",
       "      <th></th>\n",
       "      <th>Score</th>\n",
       "      <th>Popularity</th>\n",
       "      <th>Rank</th>\n",
       "      <th>Members</th>\n",
       "    </tr>\n",
       "  </thead>\n",
       "  <tbody>\n",
       "    <tr>\n",
       "      <th>count</th>\n",
       "      <td>1000.000000</td>\n",
       "      <td>1000.000000</td>\n",
       "      <td>1000.000000</td>\n",
       "      <td>1000.000000</td>\n",
       "    </tr>\n",
       "    <tr>\n",
       "      <th>mean</th>\n",
       "      <td>8.156580</td>\n",
       "      <td>1805.637000</td>\n",
       "      <td>500.500000</td>\n",
       "      <td>223.648000</td>\n",
       "    </tr>\n",
       "    <tr>\n",
       "      <th>std</th>\n",
       "      <td>0.284344</td>\n",
       "      <td>1888.308553</td>\n",
       "      <td>288.819436</td>\n",
       "      <td>246.288299</td>\n",
       "    </tr>\n",
       "    <tr>\n",
       "      <th>min</th>\n",
       "      <td>7.800000</td>\n",
       "      <td>1.000000</td>\n",
       "      <td>1.000000</td>\n",
       "      <td>1.000000</td>\n",
       "    </tr>\n",
       "    <tr>\n",
       "      <th>25%</th>\n",
       "      <td>7.920000</td>\n",
       "      <td>413.750000</td>\n",
       "      <td>250.750000</td>\n",
       "      <td>31.750000</td>\n",
       "    </tr>\n",
       "    <tr>\n",
       "      <th>50%</th>\n",
       "      <td>8.100000</td>\n",
       "      <td>1139.500000</td>\n",
       "      <td>500.500000</td>\n",
       "      <td>132.000000</td>\n",
       "    </tr>\n",
       "    <tr>\n",
       "      <th>75%</th>\n",
       "      <td>8.312500</td>\n",
       "      <td>2633.750000</td>\n",
       "      <td>750.250000</td>\n",
       "      <td>330.000000</td>\n",
       "    </tr>\n",
       "    <tr>\n",
       "      <th>max</th>\n",
       "      <td>9.380000</td>\n",
       "      <td>12043.000000</td>\n",
       "      <td>1000.000000</td>\n",
       "      <td>998.000000</td>\n",
       "    </tr>\n",
       "  </tbody>\n",
       "</table>\n",
       "</div>"
      ],
      "text/plain": [
       "             Score    Popularity         Rank      Members\n",
       "count  1000.000000   1000.000000  1000.000000  1000.000000\n",
       "mean      8.156580   1805.637000   500.500000   223.648000\n",
       "std       0.284344   1888.308553   288.819436   246.288299\n",
       "min       7.800000      1.000000     1.000000     1.000000\n",
       "25%       7.920000    413.750000   250.750000    31.750000\n",
       "50%       8.100000   1139.500000   500.500000   132.000000\n",
       "75%       8.312500   2633.750000   750.250000   330.000000\n",
       "max       9.380000  12043.000000  1000.000000   998.000000"
      ]
     },
     "execution_count": 469,
     "metadata": {},
     "output_type": "execute_result"
    }
   ],
   "source": [
    "#dataset Statistics\n",
    "anme.describe()"
   ]
  },
  {
   "cell_type": "code",
   "execution_count": 470,
   "id": "04c25cb4",
   "metadata": {},
   "outputs": [
    {
     "data": {
      "text/plain": [
       "Index(['Score', 'Popularity', 'Rank', 'Members', 'Description', 'Synonyms',\n",
       "       'Japanese', 'English', 'Type', 'Episodes', 'Status', 'Aired',\n",
       "       'Premiered', 'Broadcast', 'Producers', 'Licensors', 'Studios', 'Source',\n",
       "       'Genres', 'Demographic', 'Duration', 'Rating'],\n",
       "      dtype='object')"
      ]
     },
     "execution_count": 470,
     "metadata": {},
     "output_type": "execute_result"
    }
   ],
   "source": [
    "#Column names\n",
    "anme.columns"
   ]
  },
  {
   "cell_type": "code",
   "execution_count": 471,
   "id": "af88e070-98a1-4787-9dc8-d4e625cb6175",
   "metadata": {},
   "outputs": [
    {
     "data": {
      "text/plain": [
       "array(['28', '64', '24', '51', '10', '1', '148', '13', '110', '12', '201',\n",
       "       '22', '25', '2', '14', '74', '7', '23', '26', '16', '75', '11',\n",
       "       '47', 'Unknown', '4', '43', '27', '37', '39', '101', '8', '99',\n",
       "       '112', '6', '62', '120', '15', '50', '20', '17', '33', '40', '79',\n",
       "       '94', '3', '500', '52', '78', '77', '96', '291', '70', '38', '170',\n",
       "       '203', '237', '104', '63', '102', '21', '130', '49', '5', '45',\n",
       "       '103', '220', '153', '109', '34', '9', '366', '54', '145', '18',\n",
       "       '69', '36', '178', '167', '60', '373', '1787', '113', '35', '155'],\n",
       "      dtype=object)"
      ]
     },
     "execution_count": 471,
     "metadata": {},
     "output_type": "execute_result"
    }
   ],
   "source": [
    "anme[\"Episodes\"].unique()"
   ]
  },
  {
   "cell_type": "code",
   "execution_count": 472,
   "id": "9967262b-32f0-4280-8219-1e22781bdb85",
   "metadata": {},
   "outputs": [
    {
     "data": {
      "text/plain": [
       "array(['Finished Airing', 'Currently Airing'], dtype=object)"
      ]
     },
     "execution_count": 472,
     "metadata": {},
     "output_type": "execute_result"
    }
   ],
   "source": [
    "anme[\"Status\"].unique()"
   ]
  },
  {
   "cell_type": "code",
   "execution_count": 473,
   "id": "54a0f230-9ab2-4c26-bad9-264f4f223588",
   "metadata": {},
   "outputs": [
    {
     "data": {
      "text/plain": [
       "50     Oct 20, 1999 to ?\n",
       "72      Apr 7, 2024 to ?\n",
       "116    Apr 10, 2024 to ?\n",
       "150    Feb 16, 2024 to ?\n",
       "156     Apr 4, 2024 to ?\n",
       "220     Apr 8, 2024 to ?\n",
       "287     Apr 5, 2024 to ?\n",
       "323    Apr 13, 2024 to ?\n",
       "343     Apr 2, 2024 to ?\n",
       "351     Oct 3, 2023 to ?\n",
       "389     May 5, 2019 to ?\n",
       "419     Jan 8, 1996 to ?\n",
       "469     Apr 7, 2024 to ?\n",
       "478    Jul 31, 2022 to ?\n",
       "489    Apr 13, 2024 to ?\n",
       "513     Jan 4, 2024 to ?\n",
       "561    Apr 10, 2024 to ?\n",
       "579    Nov 10, 2022 to ?\n",
       "639    Jun 24, 2023 to ?\n",
       "785     Apr 5, 2024 to ?\n",
       "934     Apr 6, 2024 to ?\n",
       "988    Apr 14, 2024 to ?\n",
       "Name: Aired, dtype: object"
      ]
     },
     "execution_count": 473,
     "metadata": {},
     "output_type": "execute_result"
    }
   ],
   "source": [
    "anme[anme[\"Status\"]=='Currently Airing'][\"Aired\"]"
   ]
  },
  {
   "cell_type": "code",
   "execution_count": 474,
   "id": "a6fe283f-52a0-445b-9a9b-d96bf5b38433",
   "metadata": {},
   "outputs": [
    {
     "data": {
      "text/plain": [
       "array(['Manga', 'Visual novel', 'Novel', 'Light novel', 'Original',\n",
       "       '4-koma manga', 'Web manga', 'Web novel', 'Game', 'Other',\n",
       "       'Mixed media', 'Book', 'Unknown', 'Music', 'Picture book'],\n",
       "      dtype=object)"
      ]
     },
     "execution_count": 474,
     "metadata": {},
     "output_type": "execute_result"
    }
   ],
   "source": [
    "anme[\"Source\"].unique()"
   ]
  },
  {
   "cell_type": "markdown",
   "id": "d55042ec",
   "metadata": {},
   "source": [
    "### 3] Data Preprocessing"
   ]
  },
  {
   "cell_type": "code",
   "execution_count": 475,
   "id": "e509d730",
   "metadata": {},
   "outputs": [],
   "source": [
    "#Drop unnecessary columns\n",
    "anme.drop(columns={'Broadcast','Licensors'},inplace=True)"
   ]
  },
  {
   "cell_type": "code",
   "execution_count": 476,
   "id": "ab3d29d9-29c1-48c8-bcb8-f77922d18fe7",
   "metadata": {},
   "outputs": [
    {
     "data": {
      "text/plain": [
       "Index(['Score', 'Popularity', 'Rank', 'Members', 'Description', 'Synonyms',\n",
       "       'Japanese', 'English', 'Type', 'Episodes', 'Status', 'Aired',\n",
       "       'Premiered', 'Producers', 'Studios', 'Source', 'Genres', 'Demographic',\n",
       "       'Duration', 'Rating'],\n",
       "      dtype='object')"
      ]
     },
     "execution_count": 476,
     "metadata": {},
     "output_type": "execute_result"
    }
   ],
   "source": [
    "anme.columns"
   ]
  },
  {
   "cell_type": "code",
   "execution_count": 477,
   "id": "f97f9dad-2dfd-48e8-9b63-d9c9d84af2a7",
   "metadata": {},
   "outputs": [
    {
     "name": "stderr",
     "output_type": "stream",
     "text": [
      "C:\\Users\\mrmra\\AppData\\Local\\Temp\\ipykernel_12544\\888178074.py:1: FutureWarning: A value is trying to be set on a copy of a DataFrame or Series through chained assignment using an inplace method.\n",
      "The behavior will change in pandas 3.0. This inplace method will never work because the intermediate object on which we are setting values always behaves as a copy.\n",
      "\n",
      "For example, when doing 'df[col].method(value, inplace=True)', try using 'df.method({col: value}, inplace=True)' or df[col] = df[col].method(value) instead, to perform the operation inplace on the original object.\n",
      "\n",
      "\n",
      "  anme['Japanese'].fillna('Agamy',inplace=True)\n"
     ]
    }
   ],
   "source": [
    "anme['Japanese'].fillna('Agamy',inplace=True)"
   ]
  },
  {
   "cell_type": "code",
   "execution_count": 478,
   "id": "7d8b183b-bc40-4885-8769-889cab02af01",
   "metadata": {},
   "outputs": [
    {
     "name": "stderr",
     "output_type": "stream",
     "text": [
      "C:\\Users\\mrmra\\AppData\\Local\\Temp\\ipykernel_12544\\4218114370.py:1: FutureWarning: A value is trying to be set on a copy of a DataFrame or Series through chained assignment using an inplace method.\n",
      "The behavior will change in pandas 3.0. This inplace method will never work because the intermediate object on which we are setting values always behaves as a copy.\n",
      "\n",
      "For example, when doing 'df[col].method(value, inplace=True)', try using 'df.method({col: value}, inplace=True)' or df[col] = df[col].method(value) instead, to perform the operation inplace on the original object.\n",
      "\n",
      "\n",
      "  anme['Synonyms'].fillna(anme['Japanese'],inplace=True)\n"
     ]
    }
   ],
   "source": [
    "anme['Synonyms'].fillna(anme['Japanese'],inplace=True)"
   ]
  },
  {
   "cell_type": "code",
   "execution_count": 479,
   "id": "b95e9a66-6769-481a-8a17-aeb6ed009f08",
   "metadata": {},
   "outputs": [
    {
     "name": "stderr",
     "output_type": "stream",
     "text": [
      "C:\\Users\\mrmra\\AppData\\Local\\Temp\\ipykernel_12544\\3206917628.py:1: FutureWarning: A value is trying to be set on a copy of a DataFrame or Series through chained assignment using an inplace method.\n",
      "The behavior will change in pandas 3.0. This inplace method will never work because the intermediate object on which we are setting values always behaves as a copy.\n",
      "\n",
      "For example, when doing 'df[col].method(value, inplace=True)', try using 'df.method({col: value}, inplace=True)' or df[col] = df[col].method(value) instead, to perform the operation inplace on the original object.\n",
      "\n",
      "\n",
      "  anme['English'].fillna(anme['Japanese'],inplace=True)\n"
     ]
    }
   ],
   "source": [
    "anme['English'].fillna(anme['Japanese'],inplace=True)"
   ]
  },
  {
   "cell_type": "code",
   "execution_count": 480,
   "id": "8bdae435-38df-406f-8dcc-127ac7bd2668",
   "metadata": {},
   "outputs": [
    {
     "name": "stderr",
     "output_type": "stream",
     "text": [
      "C:\\Users\\mrmra\\AppData\\Local\\Temp\\ipykernel_12544\\1052813398.py:1: FutureWarning: A value is trying to be set on a copy of a DataFrame or Series through chained assignment using an inplace method.\n",
      "The behavior will change in pandas 3.0. This inplace method will never work because the intermediate object on which we are setting values always behaves as a copy.\n",
      "\n",
      "For example, when doing 'df[col].method(value, inplace=True)', try using 'df.method({col: value}, inplace=True)' or df[col] = df[col].method(value) instead, to perform the operation inplace on the original object.\n",
      "\n",
      "\n",
      "  anme['Demographic'].fillna('unknown',inplace=True)\n"
     ]
    }
   ],
   "source": [
    "anme['Demographic'].fillna('unknown',inplace=True)"
   ]
  },
  {
   "cell_type": "code",
   "execution_count": 506,
   "id": "f43f0bf0",
   "metadata": {},
   "outputs": [
    {
     "data": {
      "text/plain": [
       "Score            0\n",
       "Popularity       0\n",
       "Rank             0\n",
       "Members          0\n",
       "Description      0\n",
       "Synonyms         0\n",
       "Japanese         0\n",
       "English          0\n",
       "Type             0\n",
       "Episodes         0\n",
       "Status           0\n",
       "Aired            0\n",
       "Premiered      431\n",
       "Producers        0\n",
       "Studios          0\n",
       "Source           0\n",
       "Genres         229\n",
       "Demographic      0\n",
       "Duration         0\n",
       "Rating           0\n",
       "year           431\n",
       "dtype: int64"
      ]
     },
     "execution_count": 506,
     "metadata": {},
     "output_type": "execute_result"
    }
   ],
   "source": [
    "#Check Null values and hundle it\n",
    "anme.isna().sum()"
   ]
  },
  {
   "cell_type": "code",
   "execution_count": 482,
   "id": "298c1b34-0dc8-4629-aadb-670ddbbd26b7",
   "metadata": {
    "scrolled": true
   },
   "outputs": [
    {
     "data": {
      "text/html": [
       "<div>\n",
       "<style scoped>\n",
       "    .dataframe tbody tr th:only-of-type {\n",
       "        vertical-align: middle;\n",
       "    }\n",
       "\n",
       "    .dataframe tbody tr th {\n",
       "        vertical-align: top;\n",
       "    }\n",
       "\n",
       "    .dataframe thead th {\n",
       "        text-align: right;\n",
       "    }\n",
       "</style>\n",
       "<table border=\"1\" class=\"dataframe\">\n",
       "  <thead>\n",
       "    <tr style=\"text-align: right;\">\n",
       "      <th></th>\n",
       "      <th>Score</th>\n",
       "      <th>Popularity</th>\n",
       "      <th>Rank</th>\n",
       "      <th>Members</th>\n",
       "      <th>Description</th>\n",
       "      <th>Synonyms</th>\n",
       "      <th>Japanese</th>\n",
       "      <th>English</th>\n",
       "      <th>Type</th>\n",
       "      <th>Episodes</th>\n",
       "      <th>Status</th>\n",
       "      <th>Aired</th>\n",
       "      <th>Premiered</th>\n",
       "      <th>Producers</th>\n",
       "      <th>Studios</th>\n",
       "      <th>Source</th>\n",
       "      <th>Genres</th>\n",
       "      <th>Demographic</th>\n",
       "      <th>Duration</th>\n",
       "      <th>Rating</th>\n",
       "    </tr>\n",
       "  </thead>\n",
       "  <tbody>\n",
       "    <tr>\n",
       "      <th>0</th>\n",
       "      <td>9.38</td>\n",
       "      <td>284</td>\n",
       "      <td>1</td>\n",
       "      <td>710</td>\n",
       "      <td>During their decade-long quest to defeat the D...</td>\n",
       "      <td>Frieren at the Funeral</td>\n",
       "      <td>葬送のフリーレン</td>\n",
       "      <td>Frieren: Beyond Journey's End</td>\n",
       "      <td>TV</td>\n",
       "      <td>28</td>\n",
       "      <td>Finished Airing</td>\n",
       "      <td>Sep 29, 2023 to Mar 22, 2024</td>\n",
       "      <td>Fall 2023</td>\n",
       "      <td>Aniplex, Dentsu, Shogakukan-Shueisha Productio...</td>\n",
       "      <td>Madhouse</td>\n",
       "      <td>Manga</td>\n",
       "      <td>AdventureAdventure, DramaDrama, FantasyFantasy</td>\n",
       "      <td>ShounenShounen</td>\n",
       "      <td>24 min. per ep.</td>\n",
       "      <td>PG-13 - Teens 13 or older</td>\n",
       "    </tr>\n",
       "    <tr>\n",
       "      <th>1</th>\n",
       "      <td>9.09</td>\n",
       "      <td>3</td>\n",
       "      <td>2</td>\n",
       "      <td>3</td>\n",
       "      <td>After a horrific alchemy experiment goes wrong...</td>\n",
       "      <td>Hagane no Renkinjutsushi: Fullmetal Alchemist,...</td>\n",
       "      <td>鋼の錬金術師 FULLMETAL ALCHEMIST</td>\n",
       "      <td>Fullmetal Alchemist: Brotherhood</td>\n",
       "      <td>TV</td>\n",
       "      <td>64</td>\n",
       "      <td>Finished Airing</td>\n",
       "      <td>Apr 5, 2009 to Jul 4, 2010</td>\n",
       "      <td>Spring 2009</td>\n",
       "      <td>Aniplex, Square Enix, Mainichi Broadcasting Sy...</td>\n",
       "      <td>Bones</td>\n",
       "      <td>Manga</td>\n",
       "      <td>ActionAction, AdventureAdventure, DramaDrama, ...</td>\n",
       "      <td>ShounenShounen</td>\n",
       "      <td>24 min. per ep.</td>\n",
       "      <td>R - 17+ (violence &amp; profanity)</td>\n",
       "    </tr>\n",
       "    <tr>\n",
       "      <th>2</th>\n",
       "      <td>9.07</td>\n",
       "      <td>13</td>\n",
       "      <td>3</td>\n",
       "      <td>2</td>\n",
       "      <td>Eccentric scientist Rintarou Okabe has a never...</td>\n",
       "      <td>STEINS;GATE</td>\n",
       "      <td>STEINS;GATE</td>\n",
       "      <td>Steins;Gate</td>\n",
       "      <td>TV</td>\n",
       "      <td>24</td>\n",
       "      <td>Finished Airing</td>\n",
       "      <td>Apr 6, 2011 to Sep 14, 2011</td>\n",
       "      <td>Spring 2011</td>\n",
       "      <td>Frontier Works, Media Factory, Kadokawa Shoten...</td>\n",
       "      <td>White Fox</td>\n",
       "      <td>Visual novel</td>\n",
       "      <td>DramaDrama, Sci-FiSci-Fi, SuspenseSuspense</td>\n",
       "      <td>unknown</td>\n",
       "      <td>24 min. per ep.</td>\n",
       "      <td>PG-13 - Teens 13 or older</td>\n",
       "    </tr>\n",
       "    <tr>\n",
       "      <th>3</th>\n",
       "      <td>9.06</td>\n",
       "      <td>342</td>\n",
       "      <td>4</td>\n",
       "      <td>630</td>\n",
       "      <td>Gintoki, Shinpachi, and Kagura return as the f...</td>\n",
       "      <td>Gintama' (2015)</td>\n",
       "      <td>銀魂°</td>\n",
       "      <td>Gintama Season 4</td>\n",
       "      <td>TV</td>\n",
       "      <td>51</td>\n",
       "      <td>Finished Airing</td>\n",
       "      <td>Apr 8, 2015 to Mar 30, 2016</td>\n",
       "      <td>Spring 2015</td>\n",
       "      <td>TV Tokyo, Aniplex, Dentsu</td>\n",
       "      <td>Bandai Namco Pictures</td>\n",
       "      <td>Manga</td>\n",
       "      <td>ActionAction, ComedyComedy, Sci-FiSci-Fi</td>\n",
       "      <td>ShounenShounen</td>\n",
       "      <td>24 min. per ep.</td>\n",
       "      <td>PG-13 - Teens 13 or older</td>\n",
       "    </tr>\n",
       "    <tr>\n",
       "      <th>4</th>\n",
       "      <td>9.05</td>\n",
       "      <td>21</td>\n",
       "      <td>5</td>\n",
       "      <td>2</td>\n",
       "      <td>Seeking to restore humanity's diminishing hope...</td>\n",
       "      <td>進撃の巨人 Season3 Part.2</td>\n",
       "      <td>進撃の巨人 Season3 Part.2</td>\n",
       "      <td>Attack on Titan Season 3 Part 2</td>\n",
       "      <td>TV</td>\n",
       "      <td>10</td>\n",
       "      <td>Finished Airing</td>\n",
       "      <td>Apr 29, 2019 to Jul 1, 2019</td>\n",
       "      <td>Spring 2019</td>\n",
       "      <td>Production I.G, Dentsu, Mainichi Broadcasting ...</td>\n",
       "      <td>Wit Studio</td>\n",
       "      <td>Manga</td>\n",
       "      <td>ActionAction, DramaDrama, SuspenseSuspense</td>\n",
       "      <td>ShounenShounen</td>\n",
       "      <td>23 min. per ep.</td>\n",
       "      <td>R - 17+ (violence &amp; profanity)</td>\n",
       "    </tr>\n",
       "  </tbody>\n",
       "</table>\n",
       "</div>"
      ],
      "text/plain": [
       "   Score  Popularity  Rank  Members  \\\n",
       "0   9.38         284     1      710   \n",
       "1   9.09           3     2        3   \n",
       "2   9.07          13     3        2   \n",
       "3   9.06         342     4      630   \n",
       "4   9.05          21     5        2   \n",
       "\n",
       "                                         Description  \\\n",
       "0  During their decade-long quest to defeat the D...   \n",
       "1  After a horrific alchemy experiment goes wrong...   \n",
       "2  Eccentric scientist Rintarou Okabe has a never...   \n",
       "3  Gintoki, Shinpachi, and Kagura return as the f...   \n",
       "4  Seeking to restore humanity's diminishing hope...   \n",
       "\n",
       "                                            Synonyms  \\\n",
       "0                             Frieren at the Funeral   \n",
       "1  Hagane no Renkinjutsushi: Fullmetal Alchemist,...   \n",
       "2                                        STEINS;GATE   \n",
       "3                                    Gintama' (2015)   \n",
       "4                               進撃の巨人 Season3 Part.2   \n",
       "\n",
       "                     Japanese                           English Type Episodes  \\\n",
       "0                    葬送のフリーレン     Frieren: Beyond Journey's End   TV       28   \n",
       "1  鋼の錬金術師 FULLMETAL ALCHEMIST  Fullmetal Alchemist: Brotherhood   TV       64   \n",
       "2                 STEINS;GATE                       Steins;Gate   TV       24   \n",
       "3                         銀魂°                  Gintama Season 4   TV       51   \n",
       "4        進撃の巨人 Season3 Part.2   Attack on Titan Season 3 Part 2   TV       10   \n",
       "\n",
       "            Status                         Aired    Premiered  \\\n",
       "0  Finished Airing  Sep 29, 2023 to Mar 22, 2024    Fall 2023   \n",
       "1  Finished Airing    Apr 5, 2009 to Jul 4, 2010  Spring 2009   \n",
       "2  Finished Airing   Apr 6, 2011 to Sep 14, 2011  Spring 2011   \n",
       "3  Finished Airing   Apr 8, 2015 to Mar 30, 2016  Spring 2015   \n",
       "4  Finished Airing   Apr 29, 2019 to Jul 1, 2019  Spring 2019   \n",
       "\n",
       "                                           Producers                Studios  \\\n",
       "0  Aniplex, Dentsu, Shogakukan-Shueisha Productio...               Madhouse   \n",
       "1  Aniplex, Square Enix, Mainichi Broadcasting Sy...                  Bones   \n",
       "2  Frontier Works, Media Factory, Kadokawa Shoten...              White Fox   \n",
       "3                          TV Tokyo, Aniplex, Dentsu  Bandai Namco Pictures   \n",
       "4  Production I.G, Dentsu, Mainichi Broadcasting ...             Wit Studio   \n",
       "\n",
       "         Source                                             Genres  \\\n",
       "0         Manga     AdventureAdventure, DramaDrama, FantasyFantasy   \n",
       "1         Manga  ActionAction, AdventureAdventure, DramaDrama, ...   \n",
       "2  Visual novel         DramaDrama, Sci-FiSci-Fi, SuspenseSuspense   \n",
       "3         Manga           ActionAction, ComedyComedy, Sci-FiSci-Fi   \n",
       "4         Manga         ActionAction, DramaDrama, SuspenseSuspense   \n",
       "\n",
       "      Demographic         Duration                          Rating  \n",
       "0  ShounenShounen  24 min. per ep.       PG-13 - Teens 13 or older  \n",
       "1  ShounenShounen  24 min. per ep.  R - 17+ (violence & profanity)  \n",
       "2         unknown  24 min. per ep.       PG-13 - Teens 13 or older  \n",
       "3  ShounenShounen  24 min. per ep.       PG-13 - Teens 13 or older  \n",
       "4  ShounenShounen  23 min. per ep.  R - 17+ (violence & profanity)  "
      ]
     },
     "execution_count": 482,
     "metadata": {},
     "output_type": "execute_result"
    }
   ],
   "source": [
    "anme.head()"
   ]
  },
  {
   "cell_type": "code",
   "execution_count": 483,
   "id": "3bcdfb5e-a264-49a6-bba2-dd984e60152a",
   "metadata": {},
   "outputs": [
    {
     "data": {
      "text/plain": [
       "0"
      ]
     },
     "execution_count": 483,
     "metadata": {},
     "output_type": "execute_result"
    }
   ],
   "source": [
    "#Check Duplicate and hundle it\n",
    "anme.duplicated().sum()"
   ]
  },
  {
   "cell_type": "code",
   "execution_count": 484,
   "id": "d6875844-bcf9-421a-8db5-884a78f2d3ef",
   "metadata": {},
   "outputs": [
    {
     "data": {
      "text/plain": [
       "array(['ShounenShounen', 'unknown', 'SeinenSeinen', 'ShoujoShoujo',\n",
       "       'JoseiJosei', 'KidsKids'], dtype=object)"
      ]
     },
     "execution_count": 484,
     "metadata": {},
     "output_type": "execute_result"
    }
   ],
   "source": [
    "anme['Demographic'].unique()"
   ]
  },
  {
   "cell_type": "code",
   "execution_count": 485,
   "id": "3754077c-59fd-48aa-af1d-0c97adeaa3a9",
   "metadata": {},
   "outputs": [],
   "source": [
    "anme['Demographic'].replace({'ShounenShounen':'Shounen','SeinenSeinen':'Seinen','ShoujoShoujo':'Shoujo','JoseiJosei':'Josei','KidsKids':'Kids'}\n",
    "                            ,inplace=True)"
   ]
  },
  {
   "cell_type": "markdown",
   "id": "e2025826",
   "metadata": {},
   "source": [
    "### 4] Data Analysis & Visualization"
   ]
  },
  {
   "cell_type": "code",
   "execution_count": 486,
   "id": "fc52554d-f6db-458c-b196-ed92b83a5633",
   "metadata": {},
   "outputs": [
    {
     "data": {
      "text/html": [
       "<div>\n",
       "<style scoped>\n",
       "    .dataframe tbody tr th:only-of-type {\n",
       "        vertical-align: middle;\n",
       "    }\n",
       "\n",
       "    .dataframe tbody tr th {\n",
       "        vertical-align: top;\n",
       "    }\n",
       "\n",
       "    .dataframe thead th {\n",
       "        text-align: right;\n",
       "    }\n",
       "</style>\n",
       "<table border=\"1\" class=\"dataframe\">\n",
       "  <thead>\n",
       "    <tr style=\"text-align: right;\">\n",
       "      <th></th>\n",
       "      <th>Score</th>\n",
       "      <th>Popularity</th>\n",
       "      <th>Rank</th>\n",
       "      <th>Members</th>\n",
       "      <th>Description</th>\n",
       "      <th>Synonyms</th>\n",
       "      <th>Japanese</th>\n",
       "      <th>English</th>\n",
       "      <th>Type</th>\n",
       "      <th>Episodes</th>\n",
       "      <th>Status</th>\n",
       "      <th>Aired</th>\n",
       "      <th>Premiered</th>\n",
       "      <th>Producers</th>\n",
       "      <th>Studios</th>\n",
       "      <th>Source</th>\n",
       "      <th>Genres</th>\n",
       "      <th>Demographic</th>\n",
       "      <th>Duration</th>\n",
       "      <th>Rating</th>\n",
       "    </tr>\n",
       "  </thead>\n",
       "  <tbody>\n",
       "    <tr>\n",
       "      <th>0</th>\n",
       "      <td>9.38</td>\n",
       "      <td>284</td>\n",
       "      <td>1</td>\n",
       "      <td>710</td>\n",
       "      <td>During their decade-long quest to defeat the D...</td>\n",
       "      <td>Frieren at the Funeral</td>\n",
       "      <td>葬送のフリーレン</td>\n",
       "      <td>Frieren: Beyond Journey's End</td>\n",
       "      <td>TV</td>\n",
       "      <td>28</td>\n",
       "      <td>Finished Airing</td>\n",
       "      <td>Sep 29, 2023 to Mar 22, 2024</td>\n",
       "      <td>Fall 2023</td>\n",
       "      <td>Aniplex, Dentsu, Shogakukan-Shueisha Productio...</td>\n",
       "      <td>Madhouse</td>\n",
       "      <td>Manga</td>\n",
       "      <td>AdventureAdventure, DramaDrama, FantasyFantasy</td>\n",
       "      <td>Shounen</td>\n",
       "      <td>24 min. per ep.</td>\n",
       "      <td>PG-13 - Teens 13 or older</td>\n",
       "    </tr>\n",
       "    <tr>\n",
       "      <th>1</th>\n",
       "      <td>9.09</td>\n",
       "      <td>3</td>\n",
       "      <td>2</td>\n",
       "      <td>3</td>\n",
       "      <td>After a horrific alchemy experiment goes wrong...</td>\n",
       "      <td>Hagane no Renkinjutsushi: Fullmetal Alchemist,...</td>\n",
       "      <td>鋼の錬金術師 FULLMETAL ALCHEMIST</td>\n",
       "      <td>Fullmetal Alchemist: Brotherhood</td>\n",
       "      <td>TV</td>\n",
       "      <td>64</td>\n",
       "      <td>Finished Airing</td>\n",
       "      <td>Apr 5, 2009 to Jul 4, 2010</td>\n",
       "      <td>Spring 2009</td>\n",
       "      <td>Aniplex, Square Enix, Mainichi Broadcasting Sy...</td>\n",
       "      <td>Bones</td>\n",
       "      <td>Manga</td>\n",
       "      <td>ActionAction, AdventureAdventure, DramaDrama, ...</td>\n",
       "      <td>Shounen</td>\n",
       "      <td>24 min. per ep.</td>\n",
       "      <td>R - 17+ (violence &amp; profanity)</td>\n",
       "    </tr>\n",
       "    <tr>\n",
       "      <th>2</th>\n",
       "      <td>9.07</td>\n",
       "      <td>13</td>\n",
       "      <td>3</td>\n",
       "      <td>2</td>\n",
       "      <td>Eccentric scientist Rintarou Okabe has a never...</td>\n",
       "      <td>STEINS;GATE</td>\n",
       "      <td>STEINS;GATE</td>\n",
       "      <td>Steins;Gate</td>\n",
       "      <td>TV</td>\n",
       "      <td>24</td>\n",
       "      <td>Finished Airing</td>\n",
       "      <td>Apr 6, 2011 to Sep 14, 2011</td>\n",
       "      <td>Spring 2011</td>\n",
       "      <td>Frontier Works, Media Factory, Kadokawa Shoten...</td>\n",
       "      <td>White Fox</td>\n",
       "      <td>Visual novel</td>\n",
       "      <td>DramaDrama, Sci-FiSci-Fi, SuspenseSuspense</td>\n",
       "      <td>unknown</td>\n",
       "      <td>24 min. per ep.</td>\n",
       "      <td>PG-13 - Teens 13 or older</td>\n",
       "    </tr>\n",
       "    <tr>\n",
       "      <th>3</th>\n",
       "      <td>9.06</td>\n",
       "      <td>342</td>\n",
       "      <td>4</td>\n",
       "      <td>630</td>\n",
       "      <td>Gintoki, Shinpachi, and Kagura return as the f...</td>\n",
       "      <td>Gintama' (2015)</td>\n",
       "      <td>銀魂°</td>\n",
       "      <td>Gintama Season 4</td>\n",
       "      <td>TV</td>\n",
       "      <td>51</td>\n",
       "      <td>Finished Airing</td>\n",
       "      <td>Apr 8, 2015 to Mar 30, 2016</td>\n",
       "      <td>Spring 2015</td>\n",
       "      <td>TV Tokyo, Aniplex, Dentsu</td>\n",
       "      <td>Bandai Namco Pictures</td>\n",
       "      <td>Manga</td>\n",
       "      <td>ActionAction, ComedyComedy, Sci-FiSci-Fi</td>\n",
       "      <td>Shounen</td>\n",
       "      <td>24 min. per ep.</td>\n",
       "      <td>PG-13 - Teens 13 or older</td>\n",
       "    </tr>\n",
       "    <tr>\n",
       "      <th>4</th>\n",
       "      <td>9.05</td>\n",
       "      <td>21</td>\n",
       "      <td>5</td>\n",
       "      <td>2</td>\n",
       "      <td>Seeking to restore humanity's diminishing hope...</td>\n",
       "      <td>進撃の巨人 Season3 Part.2</td>\n",
       "      <td>進撃の巨人 Season3 Part.2</td>\n",
       "      <td>Attack on Titan Season 3 Part 2</td>\n",
       "      <td>TV</td>\n",
       "      <td>10</td>\n",
       "      <td>Finished Airing</td>\n",
       "      <td>Apr 29, 2019 to Jul 1, 2019</td>\n",
       "      <td>Spring 2019</td>\n",
       "      <td>Production I.G, Dentsu, Mainichi Broadcasting ...</td>\n",
       "      <td>Wit Studio</td>\n",
       "      <td>Manga</td>\n",
       "      <td>ActionAction, DramaDrama, SuspenseSuspense</td>\n",
       "      <td>Shounen</td>\n",
       "      <td>23 min. per ep.</td>\n",
       "      <td>R - 17+ (violence &amp; profanity)</td>\n",
       "    </tr>\n",
       "  </tbody>\n",
       "</table>\n",
       "</div>"
      ],
      "text/plain": [
       "   Score  Popularity  Rank  Members  \\\n",
       "0   9.38         284     1      710   \n",
       "1   9.09           3     2        3   \n",
       "2   9.07          13     3        2   \n",
       "3   9.06         342     4      630   \n",
       "4   9.05          21     5        2   \n",
       "\n",
       "                                         Description  \\\n",
       "0  During their decade-long quest to defeat the D...   \n",
       "1  After a horrific alchemy experiment goes wrong...   \n",
       "2  Eccentric scientist Rintarou Okabe has a never...   \n",
       "3  Gintoki, Shinpachi, and Kagura return as the f...   \n",
       "4  Seeking to restore humanity's diminishing hope...   \n",
       "\n",
       "                                            Synonyms  \\\n",
       "0                             Frieren at the Funeral   \n",
       "1  Hagane no Renkinjutsushi: Fullmetal Alchemist,...   \n",
       "2                                        STEINS;GATE   \n",
       "3                                    Gintama' (2015)   \n",
       "4                               進撃の巨人 Season3 Part.2   \n",
       "\n",
       "                     Japanese                           English Type Episodes  \\\n",
       "0                    葬送のフリーレン     Frieren: Beyond Journey's End   TV       28   \n",
       "1  鋼の錬金術師 FULLMETAL ALCHEMIST  Fullmetal Alchemist: Brotherhood   TV       64   \n",
       "2                 STEINS;GATE                       Steins;Gate   TV       24   \n",
       "3                         銀魂°                  Gintama Season 4   TV       51   \n",
       "4        進撃の巨人 Season3 Part.2   Attack on Titan Season 3 Part 2   TV       10   \n",
       "\n",
       "            Status                         Aired    Premiered  \\\n",
       "0  Finished Airing  Sep 29, 2023 to Mar 22, 2024    Fall 2023   \n",
       "1  Finished Airing    Apr 5, 2009 to Jul 4, 2010  Spring 2009   \n",
       "2  Finished Airing   Apr 6, 2011 to Sep 14, 2011  Spring 2011   \n",
       "3  Finished Airing   Apr 8, 2015 to Mar 30, 2016  Spring 2015   \n",
       "4  Finished Airing   Apr 29, 2019 to Jul 1, 2019  Spring 2019   \n",
       "\n",
       "                                           Producers                Studios  \\\n",
       "0  Aniplex, Dentsu, Shogakukan-Shueisha Productio...               Madhouse   \n",
       "1  Aniplex, Square Enix, Mainichi Broadcasting Sy...                  Bones   \n",
       "2  Frontier Works, Media Factory, Kadokawa Shoten...              White Fox   \n",
       "3                          TV Tokyo, Aniplex, Dentsu  Bandai Namco Pictures   \n",
       "4  Production I.G, Dentsu, Mainichi Broadcasting ...             Wit Studio   \n",
       "\n",
       "         Source                                             Genres  \\\n",
       "0         Manga     AdventureAdventure, DramaDrama, FantasyFantasy   \n",
       "1         Manga  ActionAction, AdventureAdventure, DramaDrama, ...   \n",
       "2  Visual novel         DramaDrama, Sci-FiSci-Fi, SuspenseSuspense   \n",
       "3         Manga           ActionAction, ComedyComedy, Sci-FiSci-Fi   \n",
       "4         Manga         ActionAction, DramaDrama, SuspenseSuspense   \n",
       "\n",
       "  Demographic         Duration                          Rating  \n",
       "0     Shounen  24 min. per ep.       PG-13 - Teens 13 or older  \n",
       "1     Shounen  24 min. per ep.  R - 17+ (violence & profanity)  \n",
       "2     unknown  24 min. per ep.       PG-13 - Teens 13 or older  \n",
       "3     Shounen  24 min. per ep.       PG-13 - Teens 13 or older  \n",
       "4     Shounen  23 min. per ep.  R - 17+ (violence & profanity)  "
      ]
     },
     "execution_count": 486,
     "metadata": {},
     "output_type": "execute_result"
    }
   ],
   "source": [
    "anme.head()"
   ]
  },
  {
   "cell_type": "markdown",
   "id": "c2b9c9d5-d11a-4a44-9b0a-6cdf9f3b592b",
   "metadata": {},
   "source": [
    "#### 1) Top 10 Anime by Popularity"
   ]
  },
  {
   "cell_type": "code",
   "execution_count": 487,
   "id": "a7ca213f",
   "metadata": {},
   "outputs": [
    {
     "data": {
      "text/html": [
       "<div>\n",
       "<style scoped>\n",
       "    .dataframe tbody tr th:only-of-type {\n",
       "        vertical-align: middle;\n",
       "    }\n",
       "\n",
       "    .dataframe tbody tr th {\n",
       "        vertical-align: top;\n",
       "    }\n",
       "\n",
       "    .dataframe thead th {\n",
       "        text-align: right;\n",
       "    }\n",
       "</style>\n",
       "<table border=\"1\" class=\"dataframe\">\n",
       "  <thead>\n",
       "    <tr style=\"text-align: right;\">\n",
       "      <th></th>\n",
       "      <th>English</th>\n",
       "      <th>Popularity</th>\n",
       "    </tr>\n",
       "  </thead>\n",
       "  <tbody>\n",
       "    <tr>\n",
       "      <th>0</th>\n",
       "      <td>おジャ魔女カーニバル!!</td>\n",
       "      <td>12043</td>\n",
       "    </tr>\n",
       "    <tr>\n",
       "      <th>1</th>\n",
       "      <td>Genshin Impact: The Song Burning in the Embers</td>\n",
       "      <td>11638</td>\n",
       "    </tr>\n",
       "    <tr>\n",
       "      <th>2</th>\n",
       "      <td>Swallowed Star 3rd Season</td>\n",
       "      <td>11443</td>\n",
       "    </tr>\n",
       "    <tr>\n",
       "      <th>3</th>\n",
       "      <td>The Demon Hunter</td>\n",
       "      <td>11337</td>\n",
       "    </tr>\n",
       "    <tr>\n",
       "      <th>4</th>\n",
       "      <td>Swallowed Star 4th Season</td>\n",
       "      <td>11250</td>\n",
       "    </tr>\n",
       "    <tr>\n",
       "      <th>5</th>\n",
       "      <td>映画プリキュアオールスターズF</td>\n",
       "      <td>10295</td>\n",
       "    </tr>\n",
       "    <tr>\n",
       "      <th>6</th>\n",
       "      <td>Soul Land 2: The Peerless Tang Clan</td>\n",
       "      <td>9980</td>\n",
       "    </tr>\n",
       "    <tr>\n",
       "      <th>7</th>\n",
       "      <td>劇場版アイドリッシュセブン LIVE 4bit BEYOND THE PERiOD</td>\n",
       "      <td>9837</td>\n",
       "    </tr>\n",
       "    <tr>\n",
       "      <th>8</th>\n",
       "      <td>ひだまりスケッチ×☆☆☆</td>\n",
       "      <td>9575</td>\n",
       "    </tr>\n",
       "    <tr>\n",
       "      <th>9</th>\n",
       "      <td>Throne of Seal 2nd Season</td>\n",
       "      <td>9404</td>\n",
       "    </tr>\n",
       "  </tbody>\n",
       "</table>\n",
       "</div>"
      ],
      "text/plain": [
       "                                          English  Popularity\n",
       "0                                    おジャ魔女カーニバル!!       12043\n",
       "1  Genshin Impact: The Song Burning in the Embers       11638\n",
       "2                       Swallowed Star 3rd Season       11443\n",
       "3                                The Demon Hunter       11337\n",
       "4                       Swallowed Star 4th Season       11250\n",
       "5                                 映画プリキュアオールスターズF       10295\n",
       "6             Soul Land 2: The Peerless Tang Clan        9980\n",
       "7       劇場版アイドリッシュセブン LIVE 4bit BEYOND THE PERiOD        9837\n",
       "8                                    ひだまりスケッチ×☆☆☆        9575\n",
       "9                       Throne of Seal 2nd Season        9404"
      ]
     },
     "execution_count": 487,
     "metadata": {},
     "output_type": "execute_result"
    }
   ],
   "source": [
    "ap=anme.groupby('English')['Popularity'].sum().sort_values(ascending=False).head(10)\n",
    "ap.reset_index()"
   ]
  },
  {
   "cell_type": "code",
   "execution_count": 488,
   "id": "7e91e46b-5d97-4199-b1d9-84f160e59324",
   "metadata": {},
   "outputs": [
    {
     "data": {
      "image/png": "[encoded data removed]",
      "text/plain": [
       "<Figure size 1000x600 with 1 Axes>"
      ]
     },
     "metadata": {},
     "output_type": "display_data"
    }
   ],
   "source": [
    "#bar plot for Top 10 Anime with x-axis: English and Y-axis: Popularity\n",
    "with warnings.catch_warnings():\n",
    "    warnings.simplefilter(\"ignore\")\n",
    "\n",
    "    # Your plotting code here\n",
    "    plt.figure(figsize=(10, 6))\n",
    "    plt.style.use('ggplot')\n",
    "    ap.plot(kind='bar', color='salmon', legend=False)\n",
    "    plt.title(\"Top 10 Most Popular Anime\", fontsize=16, weight='bold')\n",
    "    plt.xlabel(\"English\", fontsize=14)\n",
    "    plt.ylabel(\"Popularity\", fontsize=14)\n",
    "    plt.xticks(rotation=45, ha='right', fontsize=12)\n",
    "    plt.grid(axis='y', linestyle='--', alpha=0.7)\n",
    "    plt.tight_layout()\n",
    "    plt.show()"
   ]
  },
  {
   "cell_type": "markdown",
   "id": "1b539672-c415-4f26-8e80-ffcb49c299a2",
   "metadata": {},
   "source": [
    "#### 2)Score distribution"
   ]
  },
  {
   "cell_type": "code",
   "execution_count": 489,
   "id": "25b6bb40-c2c2-49d9-acff-dd33ab4ac948",
   "metadata": {},
   "outputs": [
    {
     "data": {
      "image/png": "[encoded data removed]",
      "text/plain": [
       "<Figure size 1000x600 with 1 Axes>"
      ]
     },
     "metadata": {},
     "output_type": "display_data"
    }
   ],
   "source": [
    "plt.figure(figsize=(10, 6))\n",
    "plt.boxplot(anme['Score'], notch=True, patch_artist=True)\n",
    "plt.title(\"Box Plot\", fontsize=16)\n",
    "plt.ylabel(\"Values\", fontsize=14)\n",
    "plt.grid(axis='y')\n",
    "plt.show()\n"
   ]
  },
  {
   "cell_type": "markdown",
   "id": "0d006218-6ae5-4288-947c-75873df22b22",
   "metadata": {},
   "source": [
    "### 3) Yearwise Members \n",
    "#### TOP 7 years by total mumbers\n"
   ]
  },
  {
   "cell_type": "code",
   "execution_count": 493,
   "id": "44f8df6a-23f6-4911-87e1-3cbe56719257",
   "metadata": {},
   "outputs": [],
   "source": [
    "anme[['quarter','year']]=anme['Premiered'].str.split(' ', n=1, expand=True)\n",
    "anme.drop(columns={'quarter'},axis=1,inplace=True)"
   ]
  },
  {
   "cell_type": "code",
   "execution_count": 494,
   "id": "9f28d667-9eb9-46c2-b979-eee2120b82ab",
   "metadata": {},
   "outputs": [
    {
     "data": {
      "text/html": [
       "<div>\n",
       "<style scoped>\n",
       "    .dataframe tbody tr th:only-of-type {\n",
       "        vertical-align: middle;\n",
       "    }\n",
       "\n",
       "    .dataframe tbody tr th {\n",
       "        vertical-align: top;\n",
       "    }\n",
       "\n",
       "    .dataframe thead th {\n",
       "        text-align: right;\n",
       "    }\n",
       "</style>\n",
       "<table border=\"1\" class=\"dataframe\">\n",
       "  <thead>\n",
       "    <tr style=\"text-align: right;\">\n",
       "      <th></th>\n",
       "      <th>year</th>\n",
       "      <th>Members</th>\n",
       "    </tr>\n",
       "  </thead>\n",
       "  <tbody>\n",
       "    <tr>\n",
       "      <th>44</th>\n",
       "      <td>2021</td>\n",
       "      <td>13608</td>\n",
       "    </tr>\n",
       "    <tr>\n",
       "      <th>46</th>\n",
       "      <td>2023</td>\n",
       "      <td>12440</td>\n",
       "    </tr>\n",
       "    <tr>\n",
       "      <th>45</th>\n",
       "      <td>2022</td>\n",
       "      <td>11750</td>\n",
       "    </tr>\n",
       "    <tr>\n",
       "      <th>41</th>\n",
       "      <td>2018</td>\n",
       "      <td>10342</td>\n",
       "    </tr>\n",
       "    <tr>\n",
       "      <th>43</th>\n",
       "      <td>2020</td>\n",
       "      <td>9115</td>\n",
       "    </tr>\n",
       "    <tr>\n",
       "      <th>38</th>\n",
       "      <td>2015</td>\n",
       "      <td>7409</td>\n",
       "    </tr>\n",
       "    <tr>\n",
       "      <th>29</th>\n",
       "      <td>2006</td>\n",
       "      <td>7132</td>\n",
       "    </tr>\n",
       "  </tbody>\n",
       "</table>\n",
       "</div>"
      ],
      "text/plain": [
       "    year  Members\n",
       "44  2021    13608\n",
       "46  2023    12440\n",
       "45  2022    11750\n",
       "41  2018    10342\n",
       "43  2020     9115\n",
       "38  2015     7409\n",
       "29  2006     7132"
      ]
     },
     "execution_count": 494,
     "metadata": {},
     "output_type": "execute_result"
    }
   ],
   "source": [
    "anme.groupby('year')['Members'].sum().reset_index().sort_values(by='Members',ascending=False).head(7)"
   ]
  },
  {
   "cell_type": "code",
   "execution_count": 495,
   "id": "eed7a320",
   "metadata": {},
   "outputs": [
    {
     "data": {
      "text/plain": [
       "Type\n",
       "TV       569\n",
       "Movie    235\n",
       "OVA       84\n",
       "Name: count, dtype: int64"
      ]
     },
     "execution_count": 495,
     "metadata": {},
     "output_type": "execute_result"
    }
   ],
   "source": [
    "pt=anme['Type'].value_counts().head(3)\n",
    "pt"
   ]
  },
  {
   "cell_type": "code",
   "execution_count": 496,
   "id": "e72c92c5-f3ba-4682-9283-d49b2f0c86d8",
   "metadata": {},
   "outputs": [
    {
     "data": {
      "image/png": "[encoded data removed]",
      "text/plain": [
       "<Figure size 800x800 with 1 Axes>"
      ]
     },
     "metadata": {},
     "output_type": "display_data"
    }
   ],
   "source": [
    "#Pie Plot\n",
    "plt.figure(figsize=(8, 8))\n",
    "plt.pie(pt, labels=pt.index, autopct='%1.1f%%', startangle=90,\n",
    "        colors=['gold', 'lightcoral', 'lightskyblue'])\n",
    "plt.title(\"Distribution by Type\", fontsize=16)\n",
    "\n",
    "# Display the plot\n",
    "plt.show()\n"
   ]
  },
  {
   "cell_type": "code",
   "execution_count": 499,
   "id": "ae339c9f-b2ce-49ad-b865-0f62ec37cae4",
   "metadata": {},
   "outputs": [
    {
     "data": {
      "text/html": [
       "<div>\n",
       "<style scoped>\n",
       "    .dataframe tbody tr th:only-of-type {\n",
       "        vertical-align: middle;\n",
       "    }\n",
       "\n",
       "    .dataframe tbody tr th {\n",
       "        vertical-align: top;\n",
       "    }\n",
       "\n",
       "    .dataframe thead th {\n",
       "        text-align: right;\n",
       "    }\n",
       "</style>\n",
       "<table border=\"1\" class=\"dataframe\">\n",
       "  <thead>\n",
       "    <tr style=\"text-align: right;\">\n",
       "      <th></th>\n",
       "      <th>Genres</th>\n",
       "      <th>count</th>\n",
       "    </tr>\n",
       "  </thead>\n",
       "  <tbody>\n",
       "    <tr>\n",
       "      <th>0</th>\n",
       "      <td>ActionAction, AdventureAdventure, FantasyFantasy</td>\n",
       "      <td>43</td>\n",
       "    </tr>\n",
       "    <tr>\n",
       "      <th>1</th>\n",
       "      <td>ComedyComedy, RomanceRomance</td>\n",
       "      <td>28</td>\n",
       "    </tr>\n",
       "    <tr>\n",
       "      <th>2</th>\n",
       "      <td>ActionAction, FantasyFantasy</td>\n",
       "      <td>23</td>\n",
       "    </tr>\n",
       "    <tr>\n",
       "      <th>3</th>\n",
       "      <td>ActionAction, Sci-FiSci-Fi</td>\n",
       "      <td>22</td>\n",
       "    </tr>\n",
       "    <tr>\n",
       "      <th>4</th>\n",
       "      <td>DramaDrama, RomanceRomance</td>\n",
       "      <td>21</td>\n",
       "    </tr>\n",
       "  </tbody>\n",
       "</table>\n",
       "</div>"
      ],
      "text/plain": [
       "                                             Genres  count\n",
       "0  ActionAction, AdventureAdventure, FantasyFantasy     43\n",
       "1                      ComedyComedy, RomanceRomance     28\n",
       "2                      ActionAction, FantasyFantasy     23\n",
       "3                        ActionAction, Sci-FiSci-Fi     22\n",
       "4                        DramaDrama, RomanceRomance     21"
      ]
     },
     "execution_count": 499,
     "metadata": {},
     "output_type": "execute_result"
    }
   ],
   "source": [
    "cc=anme['Genres'].value_counts().reset_index().head()\n",
    "cc.columns=['Genres','count']\n",
    "cc"
   ]
  },
  {
   "cell_type": "code",
   "execution_count": 500,
   "id": "7d41c3f7-6c7e-414d-874d-ce998aaee538",
   "metadata": {},
   "outputs": [
    {
     "data": {
      "image/png": "[encoded data removed]",
      "text/plain": [
       "<Figure size 1000x600 with 1 Axes>"
      ]
     },
     "metadata": {},
     "output_type": "display_data"
    }
   ],
   "source": [
    "#bar Plot\n",
    "\n",
    "plt.figure(figsize=(10, 6))\n",
    "plt.bar(cc['Genres'], cc['count'], color='red')  # You can customize the color as needed\n",
    "\n",
    "# Customizing the plot\n",
    "plt.title('Top Genres in Anime', fontsize=20, weight='bold')\n",
    "plt.xlabel('Genres', fontsize=14)\n",
    "plt.ylabel('Count', fontsize=14)\n",
    "\n",
    "plt.ylim(0, cc['count'].max() + 10)  # Set y-axis limit to a little above the max count\n",
    "plt.grid(axis='y', linestyle='--', alpha=0.7)\n",
    "\n",
    "# Display the plot\n",
    "plt.tight_layout()\n",
    "plt.show()\n",
    "\n"
   ]
  },
  {
   "cell_type": "code",
   "execution_count": 501,
   "id": "81836981-f73f-45ef-97b2-e61a4504dade",
   "metadata": {},
   "outputs": [
    {
     "data": {
      "text/html": [
       "<div>\n",
       "<style scoped>\n",
       "    .dataframe tbody tr th:only-of-type {\n",
       "        vertical-align: middle;\n",
       "    }\n",
       "\n",
       "    .dataframe tbody tr th {\n",
       "        vertical-align: top;\n",
       "    }\n",
       "\n",
       "    .dataframe thead th {\n",
       "        text-align: right;\n",
       "    }\n",
       "</style>\n",
       "<table border=\"1\" class=\"dataframe\">\n",
       "  <thead>\n",
       "    <tr style=\"text-align: right;\">\n",
       "      <th></th>\n",
       "      <th>Studios</th>\n",
       "      <th>Score</th>\n",
       "    </tr>\n",
       "  </thead>\n",
       "  <tbody>\n",
       "    <tr>\n",
       "      <th>55</th>\n",
       "      <td>K-Factory, Kitty Film Mitaka Studio</td>\n",
       "      <td>9.02</td>\n",
       "    </tr>\n",
       "    <tr>\n",
       "      <th>84</th>\n",
       "      <td>OLM, TOHO animation STUDIO</td>\n",
       "      <td>8.92</td>\n",
       "    </tr>\n",
       "    <tr>\n",
       "      <th>148</th>\n",
       "      <td>Toei Animation, DandeLion Animation Studio</td>\n",
       "      <td>8.79</td>\n",
       "    </tr>\n",
       "    <tr>\n",
       "      <th>93</th>\n",
       "      <td>Pierrot, Studio Signpost</td>\n",
       "      <td>8.77</td>\n",
       "    </tr>\n",
       "    <tr>\n",
       "      <th>102</th>\n",
       "      <td>Red Dog Culture House</td>\n",
       "      <td>8.68</td>\n",
       "    </tr>\n",
       "  </tbody>\n",
       "</table>\n",
       "</div>"
      ],
      "text/plain": [
       "                                        Studios  Score\n",
       "55          K-Factory, Kitty Film Mitaka Studio   9.02\n",
       "84                   OLM, TOHO animation STUDIO   8.92\n",
       "148  Toei Animation, DandeLion Animation Studio   8.79\n",
       "93                     Pierrot, Studio Signpost   8.77\n",
       "102                       Red Dog Culture House   8.68"
      ]
     },
     "execution_count": 501,
     "metadata": {},
     "output_type": "execute_result"
    }
   ],
   "source": [
    "# 6) Top Studios\n",
    "average_scores = anme.groupby(\"Studios\")['Score'].mean().reset_index().sort_values(by='Score',ascending=False).head(5)\n",
    "average_scores"
   ]
  },
  {
   "cell_type": "code",
   "execution_count": 502,
   "id": "5ad14447-01a5-4ce5-96ad-2eae47f7554d",
   "metadata": {},
   "outputs": [
    {
     "data": {
      "image/png": "[encoded data removed]",
      "text/plain": [
       "<Figure size 1000x600 with 1 Axes>"
      ]
     },
     "metadata": {},
     "output_type": "display_data"
    }
   ],
   "source": [
    "#barplot\n",
    "plt.figure(figsize=(10, 6))\n",
    "plt.style.use('ggplot')\n",
    "plt.bar(average_scores[\"Studios\"], average_scores[\"Score\"], color='red')\n",
    "\n",
    "# Customizing the plot\n",
    "plt.title(\"Top 5 Studios by Average Score\", fontsize=16, weight='bold')\n",
    "plt.xlabel(\"Studios\", fontsize=14)\n",
    "plt.ylabel(\"Average Score\", fontsize=14)\n",
    "\n",
    "# Set y-axis limits to zoom in (adjust as necessary)\n",
    "plt.ylim(average_scores[\"Score\"].min() - 1, average_scores[\"Score\"].max() + 0.1)  # Set min slightly below the minimum score\n",
    "\n",
    "plt.xticks(rotation=45, ha='right', fontsize=12)\n",
    "plt.grid(axis='y', linestyle='--', alpha=0.7)\n",
    "plt.tight_layout()\n",
    "\n",
    "# Display the plot\n",
    "plt.show()"
   ]
  },
  {
   "cell_type": "code",
   "execution_count": 504,
   "id": "fd616980-fa65-4aba-8b51-f0539f592ec2",
   "metadata": {
    "scrolled": true
   },
   "outputs": [
    {
     "data": {
      "text/plain": [
       "Source\n",
       "Manga          547\n",
       "Original       160\n",
       "Light novel    110\n",
       "Novel           63\n",
       "Name: count, dtype: int64"
      ]
     },
     "execution_count": 504,
     "metadata": {},
     "output_type": "execute_result"
    }
   ],
   "source": [
    "ps=anme['Source'].value_counts().head(4)\n",
    "ps"
   ]
  },
  {
   "cell_type": "code",
   "execution_count": 505,
   "id": "c4195aa5-dc64-4463-b288-25d8e8a12e26",
   "metadata": {},
   "outputs": [
    {
     "data": {
      "image/png": "[encoded data removed]",
      "text/plain": [
       "<Figure size 800x800 with 1 Axes>"
      ]
     },
     "metadata": {},
     "output_type": "display_data"
    }
   ],
   "source": [
    "#Pie Plot\n",
    "plt.figure(figsize=(8, 8))\n",
    "plt.pie(ps, labels=ps.index, autopct='%1.1f%%', startangle=90,\n",
    "        colors=['orange', 'red', 'blue'])\n",
    "plt.title(\"Distribution by Type\", fontsize=16)\n",
    "\n",
    "# Display the plot\n",
    "plt.show()"
   ]
  },
  {
   "cell_type": "markdown",
   "id": "3b83edd0",
   "metadata": {},
   "source": [
    "## GOOD LUCK!"
   ]
  }
 ],
 "metadata": {
  "kernelspec": {
   "display_name": "Python 3 (ipykernel)",
   "language": "python",
   "name": "python3"
  },
  "language_info": {
   "codemirror_mode": {
    "name": "ipython",
    "version": 3
   },
   "file_extension": ".py",
   "mimetype": "text/x-python",
   "name": "python",
   "nbconvert_exporter": "python",
   "pygments_lexer": "ipython3",
   "version": "3.12.4"
  }
 },
 "nbformat": 4,
 "nbformat_minor": 5
}
